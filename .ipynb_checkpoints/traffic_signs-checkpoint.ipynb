{
 "cells": [
  {
   "cell_type": "code",
   "execution_count": null,
   "metadata": {
    "id": "6wUqp_XMEiZH"
   },
   "outputs": [],
   "source": [
    "import numpy as np \n",
    "import matplotlib.pyplot as plt \n",
    "import keras \n",
    "from keras.models import Sequential \n",
    "from keras.layers import Dense\n",
    "from keras.optimizers import Adam \n",
    "from keras.utils.np_utils import to_categorical \n",
    "from keras.layers import Dropout ,Flatten \n",
    "from keras.layers.convolutional import Conv2D , MaxPooling2D\n",
    "import pickle\n",
    "import pandas as pd \n",
    "import random\n",
    "import cv2"
   ]
  },
  {
   "cell_type": "code",
   "execution_count": null,
   "metadata": {
    "id": "iiYTvJh2FN-0"
   },
   "outputs": [],
   "source": [
    "np.random.seed(0)\n"
   ]
  },
  {
   "cell_type": "code",
   "execution_count": null,
   "metadata": {
    "colab": {
     "base_uri": "https://localhost:8080/"
    },
    "id": "bdQZGn5tFzlD",
    "outputId": "910e4405-8b8a-4db1-c5a6-9b0bc0a3babc"
   },
   "outputs": [],
   "source": [
    "#git clone https://bitbucket.org/jadslim/german-traffic-signs"
   ]
  },
  {
   "cell_type": "code",
   "execution_count": null,
   "metadata": {
    "colab": {
     "base_uri": "https://localhost:8080/"
    },
    "id": "7zDOSbQLF7He",
    "outputId": "260f9e41-1e39-487f-9b95-b04e3a268e92"
   },
   "outputs": [],
   "source": [
    "path = \"master\""
   ]
  },
  {
   "cell_type": "code",
   "execution_count": null,
   "metadata": {
    "colab": {
     "base_uri": "https://localhost:8080/"
    },
    "id": "w-d2_VOoGi1i",
    "outputId": "a59b949b-23fb-44ca-ddfd-cbfbbaf1f205"
   },
   "outputs": [],
   "source": [
    "with open('master/train.p','rb') as f :\n",
    "  train_data = pickle.load(f)\n",
    "with open('master/valid.p','rb') as f :\n",
    "  val_data = pickle.load(f)\n",
    "  \n",
    "with open('master/test.p','rb') as f :\n",
    "  test_data = pickle.load(f)\n",
    "  \n",
    "print(type(train_data))\n",
    "     \n",
    "X_train , y_train = train_data['features'] , train_data['labels']\n",
    "X_val , y_val  = val_data['features'] , val_data['labels']\n",
    "X_test , y_test = test_data['features'] , test_data['labels']\n"
   ]
  },
  {
   "cell_type": "code",
   "execution_count": null,
   "metadata": {
    "colab": {
     "base_uri": "https://localhost:8080/"
    },
    "id": "2boGzviSGeUs",
    "outputId": "009be6a1-d9be-4d87-dd85-520a8b358839"
   },
   "outputs": [],
   "source": [
    "print(X_train.shape)\n",
    "print(X_val.shape)\n",
    "print(X_test.shape)"
   ]
  },
  {
   "cell_type": "code",
   "execution_count": null,
   "metadata": {
    "id": "HuDUHJWhQ68b"
   },
   "outputs": [],
   "source": []
  },
  {
   "cell_type": "code",
   "execution_count": null,
   "metadata": {
    "id": "PhsgLpByQ8Mn"
   },
   "outputs": [],
   "source": []
  },
  {
   "cell_type": "code",
   "execution_count": null,
   "metadata": {
    "id": "qNEoWMV1LNKs"
   },
   "outputs": [],
   "source": [
    "assert(X_train.shape[0] == y_train.shape[0]) , \"Error the number of images does not equal the number of labels\"\n",
    "assert(X_test.shape[0] ==y_test.shape[0]) , \"Error the number of images does not equal the number of labels\"\n",
    "assert(X_test.shape[0] == y_test.shape[0]) , \"Error the number of images does not equal the number of labels\"\n",
    "\n",
    "assert(X_train.shape[1:] == (32,32,3)) , \"the dimension of images are not 32x32x3\"\n",
    "assert(X_val.shape[1:] == (32,32,3)) , \"the dimension of images are not 32x32x3\"\n",
    "assert(X_test.shape[1:] == (32,32,3)) , \"the dimension of images are not 32x32x3\""
   ]
  },
  {
   "cell_type": "code",
   "execution_count": null,
   "metadata": {
    "colab": {
     "base_uri": "https://localhost:8080/",
     "height": 850
    },
    "id": "B3Hthx-zMNgZ",
    "outputId": "8edf7d69-8903-402a-91fa-1d714acca331"
   },
   "outputs": [],
   "source": [
    "data = pd.read_csv('master/signnames.csv')\n",
    "print(data)\n",
    "num_of_samples = []\n",
    "\n",
    "cols = 5\n",
    "num_classes = 43\n",
    "\n",
    "fig, axs = plt.subplots(nrows=num_classes, ncols = cols, figsize=(5, 50))\n",
    "fig.tight_layout()\n",
    "for i in range(cols) :\n",
    "    for j , row in data.iterrows():\n",
    "        x_selected = X_train[y_train == j]\n",
    "        axs[j][i].imshow(x_selected[random.randint(0, len(x_selected - 1)), :, :], cmap=plt.get_cmap(\"gray\"))\n",
    "        axs[j][i].axis(\"off\")\n",
    "        if i == 2:\n",
    "            axs[j][i].set_title(str(j) + \"_\" +row['SignName'])\n",
    "            num_of_samples.append(len(x_selected))\n"
   ]
  },
  {
   "cell_type": "code",
   "execution_count": null,
   "metadata": {
    "colab": {
     "base_uri": "https://localhost:8080/",
     "height": 53
    },
    "id": "jGlYQ8kkQ9Wh",
    "outputId": "5a237e80-3d0e-481f-f56c-c12f686c79de"
   },
   "outputs": [],
   "source": [
    "plt.figure(figsize=(12, 4))\n",
    "plt.bar(range(0, num_classes), num_of_samples)\n",
    "plt.title(\"Distribution of the training dataset\")\n",
    "plt.xlabel(\"Class number\")\n",
    "plt.ylabel(\"# of images\")"
   ]
  },
  {
   "cell_type": "code",
   "execution_count": null,
   "metadata": {
    "colab": {
     "base_uri": "https://localhost:8080/",
     "height": 283
    },
    "id": "Hvi1btE1mQ49",
    "outputId": "63ddd041-388d-4969-fd18-03affd5c36c6"
   },
   "outputs": [],
   "source": [
    "import cv2 \n",
    "plt.imshow(X_train[1000])\n",
    "plt.axis('off')\n",
    "print(X_train[1000].shape)\n",
    "print(y_train[1000])"
   ]
  },
  {
   "cell_type": "code",
   "execution_count": null,
   "metadata": {
    "colab": {
     "base_uri": "https://localhost:8080/",
     "height": 265
    },
    "id": "jM6BNomwm21h",
    "outputId": "411cb4cb-e2c3-4c60-e1fb-76f6307198b5"
   },
   "outputs": [],
   "source": [
    "#convert to grayscale \n",
    "def grayscale(img):\n",
    "  img = cv2.cvtColor(img, cv2.COLOR_BGR2GRAY)\n",
    "  return img \n",
    "print(X_train[1000].shape)\n",
    "img = grayscale(X_train[1000])\n",
    "\n",
    "plt.imshow(img)\n",
    "plt.axis('off')\n",
    "print(img.shape)"
   ]
  },
  {
   "cell_type": "code",
   "execution_count": null,
   "metadata": {
    "colab": {
     "base_uri": "https://localhost:8080/",
     "height": 265
    },
    "id": "XJlRKLAanb19",
    "outputId": "88311f38-dc04-4c93-c558-c0369675e625"
   },
   "outputs": [],
   "source": [
    "def equalize_hist(img):\n",
    " img = cv2.equalizeHist(img)\n",
    " return img\n",
    "img = equalize_hist(img)\n",
    "plt.imshow(img)\n",
    "plt.axis('off')\n"
   ]
  },
  {
   "cell_type": "code",
   "execution_count": null,
   "metadata": {
    "id": "YRmdq_3fp5lO"
   },
   "outputs": [],
   "source": [
    "def preprocessing(img):\n",
    "  img = grayscale(img)\n",
    "  img = equalize_hist(img)\n",
    "  img= img/255\n",
    "  return img \n",
    "X_train  = np.array(list(map(preprocessing,X_train)))\n",
    "X_val  = np.array(list(map(preprocessing,X_val)))\n",
    "X_test  = np.array(list(map(preprocessing,X_test)))\n"
   ]
  },
  {
   "cell_type": "code",
   "execution_count": null,
   "metadata": {
    "colab": {
     "base_uri": "https://localhost:8080/",
     "height": 265
    },
    "id": "Ydp1CaWVrzY6",
    "outputId": "0fe47ea1-d9e8-413f-8458-8fe298538cbe"
   },
   "outputs": [],
   "source": [
    "plt.imshow(X_train[random.randint(0,len(X_train)-1)])\n",
    "plt.axis('off')\n",
    "print(X_train.shape)"
   ]
  },
  {
   "cell_type": "code",
   "execution_count": null,
   "metadata": {
    "id": "isZEh1o4sORM"
   },
   "outputs": [],
   "source": [
    "X_train = X_train.reshape(34799, 32, 32 , 1)\n",
    "X_val = X_val.reshape(4410, 32, 32, 1)\n",
    "X_test = X_test.reshape(12630, 32, 32, 1)"
   ]
  },
  {
   "cell_type": "code",
   "execution_count": null,
   "metadata": {
    "id": "rjUUtFCJH1NB"
   },
   "outputs": [],
   "source": [
    "from keras.preprocessing.image import ImageDataGenerator\n",
    "datagen = ImageDataGenerator(width_shift_range=0.1,\n",
    "                             height_shift_range=0.1,\n",
    "                             zoom_range = 0.2,\n",
    "                             shear_range= 0.15,\n",
    "                             rotation_range = 30) \n",
    "datagen.fit(X_train)"
   ]
  },
  {
   "cell_type": "code",
   "execution_count": null,
   "metadata": {
    "colab": {
     "base_uri": "https://localhost:8080/",
     "height": 73
    },
    "id": "3OhhVLYcIs3k",
    "outputId": "d26b6b0d-5a90-4c19-a40f-55fbe57731c2"
   },
   "outputs": [],
   "source": [
    "batches = datagen.flow(X_train,y_train,batch_size = 20)\n",
    "X_batch , y_batch = next(batches)\n",
    "fig , axs = plt.subplots(1,15,figsize=(20,5))\n",
    "fig.tight_layout()\n",
    "for i in range(15):\n",
    "  axs[i].imshow(X_batch[i].reshape(32,32))\n",
    "  axs[i].axis('off')"
   ]
  },
  {
   "cell_type": "code",
   "execution_count": null,
   "metadata": {
    "colab": {
     "base_uri": "https://localhost:8080/"
    },
    "id": "b1e2tUZzsvt_",
    "outputId": "cd72be26-1e09-4452-fb23-125d9423ac0a"
   },
   "outputs": [],
   "source": [
    "print(X_train.shape)\n",
    "print(X_val.shape)\n",
    "print(X_test.shape)"
   ]
  },
  {
   "cell_type": "code",
   "execution_count": null,
   "metadata": {
    "colab": {
     "base_uri": "https://localhost:8080/"
    },
    "id": "du7cJ2n0s3Qw",
    "outputId": "3f2cda5c-20e6-404e-ffab-6c32de7a2551"
   },
   "outputs": [],
   "source": [
    "y_train  = to_categorical(y_train, 43)\n",
    "y_val  = to_categorical(y_val, 43)\n",
    "y_test  = to_categorical(y_test, 43)\n",
    "print(y_train.shape)"
   ]
  },
  {
   "cell_type": "code",
   "execution_count": null,
   "metadata": {
    "id": "R8-dF0yoGOuN"
   },
   "outputs": [],
   "source": []
  },
  {
   "cell_type": "code",
   "execution_count": null,
   "metadata": {
    "id": "2FR2eCJMvDLD"
   },
   "outputs": [],
   "source": [
    "def model():\n",
    "  model  = Sequential()\n",
    "  \n",
    "  model.add(Conv2D(60,(5,5),input_shape = (32,32,1) , activation = 'relu'))\n",
    "  model.add(Conv2D(60,(5,5), activation = 'relu'))\n",
    "  model.add(MaxPooling2D(pool_size = (2,2)))#(2,2) i.e 32x32x1 ---> 16x16x1\n",
    "  \n",
    "  model.add(Conv2D(30,(3,3),activation = 'relu'))\n",
    "  model.add(Conv2D(30,(3,3),activation = 'relu'))\n",
    "  model.add(MaxPooling2D(pool_size = (2,2)))  \n",
    "  model.add(Dropout(0.5))\n",
    "\n",
    "  model.add(Flatten())\n",
    "  model.add(Dense(500,activation = 'relu'))\n",
    "  model.add(Dropout(0.5))\n",
    "  model.add(Dense(num_classes,activation = 'softmax'))\n",
    "  return model"
   ]
  },
  {
   "cell_type": "code",
   "execution_count": null,
   "metadata": {
    "colab": {
     "base_uri": "https://localhost:8080/"
    },
    "id": "yIt0Bqoe1hC_",
    "outputId": "94840e0f-b227-405f-8c6f-678c549821db"
   },
   "outputs": [],
   "source": [
    "model = model()\n",
    "print(model.summary())"
   ]
  },
  {
   "cell_type": "code",
   "execution_count": null,
   "metadata": {
    "colab": {
     "base_uri": "https://localhost:8080/"
    },
    "id": "MnZvhoVI16Ou",
    "outputId": "56877960-4177-4b43-ea8c-6fa533ab2457"
   },
   "outputs": [],
   "source": [
    "print('Starting training.....')\n",
    "history  = model.fit_generator(datagen.flow(X_train , y_train , batch_size = 50), steps_per_epoch = 2000,epochs = 10,validation_data=(X_val,y_val),shuffle = 1 ,verbose = 1 ) "
   ]
  },
  {
   "cell_type": "code",
   "execution_count": null,
   "metadata": {
    "id": "v3j5DcZL2YzR"
   },
   "outputs": [],
   "source": [
    "from google.colab import drive \n",
    "drive.mount(\"/content/drive\")"
   ]
  },
  {
   "cell_type": "code",
   "execution_count": null,
   "metadata": {
    "colab": {
     "base_uri": "https://localhost:8080/"
    },
    "id": "Z3LUGww82ecx",
    "outputId": "cd2d6635-4528-4c59-9754-2f8058e0b1b4"
   },
   "outputs": [],
   "source": [
    "\n",
    "model_path = \"/content/drive/MY Drive/saved_model\"\n",
    "if not os.path.exists(model_path):\n",
    "    os.mkdir(model_path)\n",
    "model.save(os.path.join(model_path,\"traffic_sign_model.h5\"))"
   ]
  },
  {
   "cell_type": "code",
   "execution_count": null,
   "metadata": {
    "colab": {
     "base_uri": "https://localhost:8080/"
    },
    "id": "OUx1Pw-G2h-W",
    "outputId": "92b2a404-f305-4263-a0ef-84fa9ce1e348"
   },
   "outputs": [],
   "source": [
    "# download to google drive                       \n",
    "drive.CreateFile({'id': model_file.get('id')})"
   ]
  },
  {
   "cell_type": "code",
   "execution_count": null,
   "metadata": {
    "colab": {
     "base_uri": "https://localhost:8080/",
     "height": 467
    },
    "id": "xfm6oh232kwp",
    "outputId": "3e23e1a7-5829-439e-b09c-3a3c9e8f8506"
   },
   "outputs": [],
   "source": [
    "file_obj = drive.CreateFile({'id': '16zbkEN4vqnPvIOvLMF1IaXKYCq5g3Yln'})                       \n",
    "file_obj.GetContentFile('keras.h5')"
   ]
  },
  {
   "cell_type": "code",
   "execution_count": null,
   "metadata": {
    "id": "lzevmu5Z2bKQ"
   },
   "outputs": [],
   "source": []
  },
  {
   "cell_type": "code",
   "execution_count": null,
   "metadata": {
    "colab": {
     "base_uri": "https://localhost:8080/",
     "height": 313
    },
    "id": "OZGUV8ACa2kp",
    "outputId": "5caa72c7-3849-4668-fbad-e9025248f61f"
   },
   "outputs": [],
   "source": [
    "plt.plot(history.history['loss'])\n",
    "plt.plot(history.history['val_loss'])\n",
    "plt.legend(['training' , 'validation'])\n",
    "plt.title('loss')\n",
    "plt.xlabel('epoch')"
   ]
  },
  {
   "cell_type": "markdown",
   "metadata": {
    "id": "L3GCzJD8-AvR"
   },
   "source": []
  },
  {
   "cell_type": "code",
   "execution_count": null,
   "metadata": {
    "colab": {
     "base_uri": "https://localhost:8080/",
     "height": 235
    },
    "id": "4LK0DRt0bLTy",
    "outputId": "2932360e-d493-4bf9-8c32-c52b64fb77da"
   },
   "outputs": [],
   "source": [
    "plt.plot(history.history['acc'])\n",
    "plt.plot(history.history['val_acc'])\n",
    "plt.legend(['training' , 'validation'])\n",
    "plt.title('Accuracy')\n",
    "plt.xlabel('epoch')"
   ]
  },
  {
   "cell_type": "code",
   "execution_count": null,
   "metadata": {
    "id": "5y_mHrndIoif"
   },
   "outputs": [],
   "source": [
    "score =  model.evaluate(X_test,y_test,verbose = 1)\n",
    "print('Test score: ' , score[0])\n",
    "print('Test accuracy: ' , score[1])\n",
    "\n",
    "#there is two  things to correct : accuracy , overfitting "
   ]
  },
  {
   "cell_type": "code",
   "execution_count": null,
   "metadata": {
    "id": "YZq-OfwUb4EZ"
   },
   "outputs": [],
   "source": [
    "import requests\n",
    "import cv2\n",
    "from PIL import Image\n",
    "url = 'https://encrypted-tbn0.gstatic.com/images?q=tbn:ANd9GcSq2yVX_FxsRNF6VFgyxFFqaxpf6aZ3sbjWaONlneQHX768CTSEtA'\n",
    "r = requests.get(url, stream=True)\n",
    "img = Image.open(r.raw)\n",
    "plt.imshow(img, cmap=plt.get_cmap('gray'))"
   ]
  },
  {
   "cell_type": "code",
   "execution_count": null,
   "metadata": {
    "id": "EZ1EJzQWcdfL"
   },
   "outputs": [],
   "source": [
    "img = np.asarray(img)\n",
    "img = cv2.resize(img, (32, 32))\n",
    "img = preprocessing(img)\n",
    "plt.imshow(img, cmap = plt.get_cmap('gray'))\n",
    "print(img.shape)\n",
    "\n",
    " "
   ]
  },
  {
   "cell_type": "code",
   "execution_count": null,
   "metadata": {
    "id": "fFTjbMhqdQGJ"
   },
   "outputs": [],
   "source": [
    "img = img.reshape(1, 32, 32, 1)\n"
   ]
  },
  {
   "cell_type": "code",
   "execution_count": null,
   "metadata": {
    "id": "xCCuf-wAksZP"
   },
   "outputs": [],
   "source": []
  },
  {
   "cell_type": "code",
   "execution_count": null,
   "metadata": {
    "id": "RVZJF3epdRtn"
   },
   "outputs": [],
   "source": [
    "print(\"predicted sign: \"+ str(model.predict_classes(img)))"
   ]
  },
  {
   "cell_type": "code",
   "execution_count": null,
   "metadata": {
    "id": "iuOOGUgAhERb"
   },
   "outputs": [],
   "source": [
    "model.save('trafic_sign.h5')"
   ]
  },
  {
   "cell_type": "code",
   "execution_count": null,
   "metadata": {
    "id": "9RkkNPTghB5Y"
   },
   "outputs": [],
   "source": [
    "from google.colab import drive\n",
    "\n",
    "drive.mount('/content/gdrive')\n",
    "data_dir = '/content/gdrive/My Drive/model.h5'\n",
    "\n",
    "from keras.models import load_model\n",
    "model = load_model(data_dir)"
   ]
  },
  {
   "cell_type": "code",
   "execution_count": null,
   "metadata": {
    "id": "RKbJFFz6j2KN"
   },
   "outputs": [],
   "source": [
    "import requests\n",
    "import cv2\n",
    "from PIL import Image\n",
    "url = 'https://encrypted-tbn0.gstatic.com/images?q=tbn:ANd9GcQpGkayiSC6ANtUMLeJkIiJqsNRvTIkD9CahxnwZtyRWVAYvO27'\n",
    "r = requests.get(url, stream=True)\n",
    "img = Image.open(r.raw)\n",
    "plt.imshow(img, cmap=plt.get_cmap('gray'))"
   ]
  },
  {
   "cell_type": "code",
   "execution_count": null,
   "metadata": {
    "id": "_qXQH2EOkADu"
   },
   "outputs": [],
   "source": [
    "img = np.asarray(img)\n",
    "img = cv2.resize(img, (32, 32))\n",
    "img = preprocessing(img)\n",
    "plt.imshow(img, cmap = plt.get_cmap('gray'))\n",
    "print(img.shape)\n"
   ]
  },
  {
   "cell_type": "code",
   "execution_count": null,
   "metadata": {
    "id": "N4OsS8BXktVF"
   },
   "outputs": [],
   "source": [
    "img = img.reshape(1, 32, 32, 1)\n"
   ]
  },
  {
   "cell_type": "code",
   "execution_count": null,
   "metadata": {
    "id": "a9rGAY_ikwaV"
   },
   "outputs": [],
   "source": [
    "print(\"predicted sign: \"+ str(model.predict_classes(img)))"
   ]
  }
 ],
 "metadata": {
  "accelerator": "TPU",
  "colab": {
   "collapsed_sections": [],
   "name": "traffic signs.ipynb",
   "provenance": []
  },
  "kernelspec": {
   "display_name": "Python 3",
   "language": "python",
   "name": "python3"
  },
  "language_info": {
   "codemirror_mode": {
    "name": "ipython",
    "version": 3
   },
   "file_extension": ".py",
   "mimetype": "text/x-python",
   "name": "python",
   "nbconvert_exporter": "python",
   "pygments_lexer": "ipython3",
   "version": "3.8.6"
  }
 },
 "nbformat": 4,
 "nbformat_minor": 1
}
