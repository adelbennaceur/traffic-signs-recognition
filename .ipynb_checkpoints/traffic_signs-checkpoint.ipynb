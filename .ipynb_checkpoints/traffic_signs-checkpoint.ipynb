{
 "cells": [
  {
   "cell_type": "code",
   "execution_count": null,
   "metadata": {
    "id": "6wUqp_XMEiZH"
   },
   "outputs": [],
   "source": [
    "import numpy as np \n",
    "import matplotlib.pyplot as plt \n",
    "import keras \n",
    "from keras.models import Sequential \n",
    "from keras.layers import Dense\n",
    "from keras.optimizers import Adam \n",
    "from keras.utils.np_utils import to_categorical \n",
    "from keras.layers import Dropout ,Flatten \n",
    "from keras.layers.convolutional import Conv2D , MaxPooling2D\n",
    "import pickle\n",
    "import pandas as pd \n",
    "import random\n",
    "import cv2"
   ]
  },
  {
   "cell_type": "code",
   "execution_count": null,
   "metadata": {
    "id": "iiYTvJh2FN-0"
   },
   "outputs": [],
   "source": [
    "np.random.seed(0)\n"
   ]
  },
  {
   "cell_type": "code",
   "execution_count": null,
   "metadata": {
    "colab": {
     "base_uri": "https://localhost:8080/"
    },
    "id": "bdQZGn5tFzlD",
    "outputId": "220b6ee2-94dd-471e-8ebc-95969be8138e"
   },
   "outputs": [],
   "source": [
    "#download the dataset and the labels and prepare the workflow\n",
    "!wget https://s3-us-west-1.amazonaws.com/udacity-selfdrivingcar/traffic-signs-data.zip\n",
    "!mkdir german-traffic-signs\n",
    "!unzip traffic-signs-data.zip -d german-traffic-signs\n",
    "!rm traffic-signs-data.zip\n",
    "!git clone https://github.com/adelbennaceur/traffic-signs-recognition\n",
    "!mv traffic-signs-recognition/data/signnames.csv ./german-traffic-signs\n"
   ]
  },
  {
   "cell_type": "code",
   "execution_count": null,
   "metadata": {
    "colab": {
     "base_uri": "https://localhost:8080/"
    },
    "id": "w-d2_VOoGi1i",
    "outputId": "b49d27a4-f6d2-4504-f78f-2f0966dab8b2"
   },
   "outputs": [],
   "source": [
    "with open('german-traffic-signs/train.p','rb') as f :\n",
    "  train_data = pickle.load(f)\n",
    "\n",
    "with open('german-traffic-signs/valid.p','rb') as f :\n",
    "  val_data = pickle.load(f)\n",
    "  \n",
    "with open('german-traffic-signs/test.p','rb') as f :\n",
    "  test_data = pickle.load(f)\n",
    "  \n",
    "print(type(train_data))\n",
    "     \n",
    "X_train , y_train = train_data['features'] , train_data['labels']\n",
    "X_val , y_val  = val_data['features'] , val_data['labels']\n",
    "X_test , y_test = test_data['features'] , test_data['labels']\n"
   ]
  },
  {
   "cell_type": "code",
   "execution_count": null,
   "metadata": {
    "colab": {
     "base_uri": "https://localhost:8080/"
    },
    "id": "2boGzviSGeUs",
    "outputId": "f147e3e2-5bbc-44ef-bff7-60164998cb4b"
   },
   "outputs": [],
   "source": [
    "print(X_train.shape)\n",
    "print(X_val.shape)\n",
    "print(X_test.shape)"
   ]
  },
  {
   "cell_type": "code",
   "execution_count": null,
   "metadata": {
    "id": "qNEoWMV1LNKs"
   },
   "outputs": [],
   "source": [
    "assert(X_train.shape[0] == y_train.shape[0]) , \"Error the number of images does not equal the number of labels\"\n",
    "assert(X_test.shape[0] ==y_test.shape[0]) , \"Error the number of images does not equal the number of labels\"\n",
    "assert(X_test.shape[0] == y_test.shape[0]) , \"Error the number of images does not equal the number of labels\"\n",
    "\n",
    "assert(X_train.shape[1:] == (32,32,3)) , \"the dimension of images are not 32x32x3\"\n",
    "assert(X_val.shape[1:] == (32,32,3)) , \"the dimension of images are not 32x32x3\"\n",
    "assert(X_test.shape[1:] == (32,32,3)) , \"the dimension of images are not 32x32x3\""
   ]
  },
  {
   "cell_type": "code",
   "execution_count": null,
   "metadata": {
    "colab": {
     "base_uri": "https://localhost:8080/",
     "height": 1000
    },
    "id": "B3Hthx-zMNgZ",
    "outputId": "66a68cb6-fbf7-4680-d2d4-416b1dfeb905"
   },
   "outputs": [],
   "source": [
    "data = pd.read_csv('german-traffic-signs/signnames.csv')\n",
    "print(data)\n",
    "num_of_samples = []\n",
    "\n",
    "cols = 5\n",
    "num_classes = 43\n",
    "\n",
    "fig, axs = plt.subplots(nrows=num_classes, ncols = cols, figsize=(5, 50))\n",
    "fig.tight_layout()\n",
    "for i in range(cols) :\n",
    "    for j , row in data.iterrows():\n",
    "        x_selected = X_train[y_train == j]\n",
    "        axs[j][i].imshow(x_selected[random.randint(0, len(x_selected - 1)), :, :], cmap=plt.get_cmap(\"gray\"))\n",
    "        axs[j][i].axis(\"off\")\n",
    "        if i == 2:\n",
    "            axs[j][i].set_title(str(j) + \"_\" +row['SignName'])\n",
    "            num_of_samples.append(len(x_selected))\n"
   ]
  },
  {
   "cell_type": "code",
   "execution_count": null,
   "metadata": {
    "colab": {
     "base_uri": "https://localhost:8080/",
     "height": 312
    },
    "id": "jGlYQ8kkQ9Wh",
    "outputId": "a716ad9c-c8c2-468c-e419-9db612a49e8e"
   },
   "outputs": [],
   "source": [
    "plt.figure(figsize=(12, 4))\n",
    "plt.bar(range(0, num_classes), num_of_samples)\n",
    "plt.title(\"Distribution of the training dataset\")\n",
    "plt.xlabel(\"Class number\")\n",
    "plt.ylabel(\"# of images\")"
   ]
  },
  {
   "cell_type": "code",
   "execution_count": null,
   "metadata": {
    "colab": {
     "base_uri": "https://localhost:8080/",
     "height": 282
    },
    "id": "Hvi1btE1mQ49",
    "outputId": "64bce9ad-c2b3-42b0-b94d-28984218cec3"
   },
   "outputs": [],
   "source": [
    "import cv2 \n",
    "plt.imshow(X_train[1000])\n",
    "plt.axis('off')\n",
    "print(X_train[1000].shape)\n",
    "print(y_train[1000])"
   ]
  },
  {
   "cell_type": "code",
   "execution_count": null,
   "metadata": {
    "colab": {
     "base_uri": "https://localhost:8080/",
     "height": 282
    },
    "id": "jM6BNomwm21h",
    "outputId": "61a8da8c-63a9-4ba3-9a4b-344efff10ee1"
   },
   "outputs": [],
   "source": [
    "#convert to grayscale \n",
    "def grayscale(img):\n",
    "  img = cv2.cvtColor(img, cv2.COLOR_BGR2GRAY)\n",
    "  return img \n",
    "print(X_train[1000].shape)\n",
    "img = grayscale(X_train[1000])\n",
    "\n",
    "plt.imshow(img)\n",
    "plt.axis('off')\n",
    "print(img.shape)"
   ]
  },
  {
   "cell_type": "code",
   "execution_count": null,
   "metadata": {
    "colab": {
     "base_uri": "https://localhost:8080/",
     "height": 265
    },
    "id": "XJlRKLAanb19",
    "outputId": "2e6693f0-ff84-4928-d57a-079043a7ac9a"
   },
   "outputs": [],
   "source": [
    "def equalize_hist(img):\n",
    " img = cv2.equalizeHist(img)\n",
    " return img\n",
    "img = equalize_hist(img)\n",
    "plt.imshow(img)\n",
    "plt.axis('off')\n"
   ]
  },
  {
   "cell_type": "code",
   "execution_count": null,
   "metadata": {
    "id": "YRmdq_3fp5lO"
   },
   "outputs": [],
   "source": [
    "def preprocessing(img):\n",
    "  img = grayscale(img)\n",
    "  img = equalize_hist(img)\n",
    "  img= img/255\n",
    "  return img \n",
    "X_train  = np.array(list(map(preprocessing,X_train)))\n",
    "X_val  = np.array(list(map(preprocessing,X_val)))\n",
    "X_test  = np.array(list(map(preprocessing,X_test)))\n"
   ]
  },
  {
   "cell_type": "code",
   "execution_count": null,
   "metadata": {
    "colab": {
     "base_uri": "https://localhost:8080/",
     "height": 265
    },
    "id": "Ydp1CaWVrzY6",
    "outputId": "95a92ebf-b9ad-482f-8a66-49f8cc73bc8f"
   },
   "outputs": [],
   "source": [
    "plt.imshow(X_train[random.randint(0,len(X_train)-1)])\n",
    "plt.axis('off')\n",
    "print(X_train.shape)"
   ]
  },
  {
   "cell_type": "code",
   "execution_count": null,
   "metadata": {
    "id": "isZEh1o4sORM"
   },
   "outputs": [],
   "source": [
    "X_train = X_train.reshape(34799, 32, 32 , 1)\n",
    "X_val = X_val.reshape(4410, 32, 32, 1)\n",
    "X_test = X_test.reshape(12630, 32, 32, 1)"
   ]
  },
  {
   "cell_type": "code",
   "execution_count": null,
   "metadata": {
    "id": "rjUUtFCJH1NB"
   },
   "outputs": [],
   "source": [
    "from keras.preprocessing.image import ImageDataGenerator\n",
    "datagen = ImageDataGenerator(width_shift_range=0.1,\n",
    "                             height_shift_range=0.1,\n",
    "                             zoom_range = 0.2,\n",
    "                             shear_range= 0.15,\n",
    "                             rotation_range = 30) \n",
    "datagen.fit(X_train)"
   ]
  },
  {
   "cell_type": "code",
   "execution_count": null,
   "metadata": {
    "colab": {
     "base_uri": "https://localhost:8080/",
     "height": 85
    },
    "id": "3OhhVLYcIs3k",
    "outputId": "2d4bfea8-03bc-468f-e9e3-23cb95755e9d"
   },
   "outputs": [],
   "source": [
    "batches = datagen.flow(X_train,y_train,batch_size = 20)\n",
    "X_batch , y_batch = next(batches)\n",
    "fig , axs = plt.subplots(1,15,figsize=(20,5))\n",
    "fig.tight_layout()\n",
    "for i in range(15):\n",
    "  axs[i].imshow(X_batch[i].reshape(32,32))\n",
    "  axs[i].axis('off')"
   ]
  },
  {
   "cell_type": "code",
   "execution_count": null,
   "metadata": {
    "colab": {
     "base_uri": "https://localhost:8080/"
    },
    "id": "b1e2tUZzsvt_",
    "outputId": "605441f6-225b-4ded-d15e-d755418ab09e"
   },
   "outputs": [],
   "source": [
    "print(X_train.shape)\n",
    "print(X_val.shape)\n",
    "print(X_test.shape)"
   ]
  },
  {
   "cell_type": "code",
   "execution_count": null,
   "metadata": {
    "colab": {
     "base_uri": "https://localhost:8080/"
    },
    "id": "du7cJ2n0s3Qw",
    "outputId": "1759168d-e94c-44b4-a67c-7fd33eb0cda0"
   },
   "outputs": [],
   "source": [
    "y_train  = to_categorical(y_train, 43)\n",
    "y_val  = to_categorical(y_val, 43)\n",
    "y_test  = to_categorical(y_test, 43)\n",
    "print(y_train.shape)"
   ]
  },
  {
   "cell_type": "code",
   "execution_count": null,
   "metadata": {
    "id": "R8-dF0yoGOuN"
   },
   "outputs": [],
   "source": []
  },
  {
   "cell_type": "code",
   "execution_count": null,
   "metadata": {
    "id": "2FR2eCJMvDLD"
   },
   "outputs": [],
   "source": [
    "def model():\n",
    "  model  = Sequential()\n",
    "  \n",
    "  model.add(Conv2D(60,(5,5),input_shape = (32,32,1) , activation = 'relu'))\n",
    "  model.add(Conv2D(60,(5,5), activation = 'relu'))\n",
    "  model.add(MaxPooling2D(pool_size = (2,2)))#(2,2) i.e 32x32x1 ---> 16x16x1\n",
    "  \n",
    "  model.add(Conv2D(30,(3,3),activation = 'relu'))\n",
    "  model.add(Conv2D(30,(3,3),activation = 'relu'))\n",
    "  model.add(MaxPooling2D(pool_size = (2,2)))  \n",
    "  model.add(Dropout(0.5))\n",
    "\n",
    "  model.add(Flatten())\n",
    "  model.add(Dense(500,activation = 'relu'))\n",
    "  model.add(Dropout(0.5))\n",
    "  model.add(Dense(num_classes,activation = 'softmax'))\n",
    "  model.compile(Adam(lr=0.00099), loss=\"categorical_crossentropy\", metrics=[\"accuracy\"])\n",
    "  return model"
   ]
  },
  {
   "cell_type": "code",
   "execution_count": null,
   "metadata": {
    "colab": {
     "base_uri": "https://localhost:8080/"
    },
    "id": "yIt0Bqoe1hC_",
    "outputId": "0ea8a1e8-7e81-4e81-b1b4-b938bfe8d0af"
   },
   "outputs": [],
   "source": [
    "model = model()\n",
    "print(model.summary())"
   ]
  },
  {
   "cell_type": "code",
   "execution_count": null,
   "metadata": {
    "colab": {
     "base_uri": "https://localhost:8080/"
    },
    "id": "MnZvhoVI16Ou",
    "outputId": "678dd8ac-71af-4a52-a2e1-5ef633f379e0"
   },
   "outputs": [],
   "source": [
    "print('Starting training.....')\n",
    "history  = model.fit_generator(datagen.flow(X_train , y_train , batch_size = 50), steps_per_epoch = 2000,epochs = 10,validation_data=(X_val,y_val),shuffle = 1 ,verbose = 1 ) "
   ]
  },
  {
   "cell_type": "code",
   "execution_count": null,
   "metadata": {
    "colab": {
     "base_uri": "https://localhost:8080/"
    },
    "id": "v3j5DcZL2YzR",
    "outputId": "b0b29bc0-2275-440c-d6ac-52129f58659f"
   },
   "outputs": [],
   "source": [
    "#saving the model your drive.\n",
    "\n",
    "from google.colab import drive \n",
    "drive.mount(\"/content/drive\")"
   ]
  },
  {
   "cell_type": "code",
   "execution_count": null,
   "metadata": {
    "id": "Z3LUGww82ecx"
   },
   "outputs": [],
   "source": [
    "import os \n",
    "model_path = \"/content/drive/My Drive/saved_model\"\n",
    "if not os.path.exists(model_path):\n",
    "    os.mkdir(model_path)\n",
    "model.save(os.path.join(model_path,\"traffic_sign_model.h5\"))"
   ]
  },
  {
   "cell_type": "code",
   "execution_count": null,
   "metadata": {
    "colab": {
     "base_uri": "https://localhost:8080/",
     "height": 312
    },
    "id": "OZGUV8ACa2kp",
    "outputId": "0c093e0b-c5e7-46f4-b1bd-a8cb3e8bbe7b"
   },
   "outputs": [],
   "source": [
    "plt.plot(history.history['loss'])\n",
    "plt.plot(history.history['val_loss'])\n",
    "plt.legend(['training' , 'validation'])\n",
    "plt.title('loss')\n",
    "plt.xlabel('epoch')"
   ]
  },
  {
   "cell_type": "code",
   "execution_count": null,
   "metadata": {
    "colab": {
     "base_uri": "https://localhost:8080/",
     "height": 312
    },
    "id": "4LK0DRt0bLTy",
    "outputId": "cc47ece8-6b9d-4493-8cc6-fbaae3bd7998"
   },
   "outputs": [],
   "source": [
    "plt.plot(history.history['accuracy'])\n",
    "plt.plot(history.history['val_accuracy'])\n",
    "plt.legend(['training' , 'validation'])\n",
    "plt.title('Accuracy')\n",
    "plt.xlabel('epoch')"
   ]
  },
  {
   "cell_type": "code",
   "execution_count": null,
   "metadata": {
    "colab": {
     "base_uri": "https://localhost:8080/"
    },
    "id": "5y_mHrndIoif",
    "outputId": "997c8999-f16e-4b1e-c2ed-2fd207503e19"
   },
   "outputs": [],
   "source": [
    "\n",
    "score =  model.evaluate(X_test,y_test,verbose = 1)\n",
    "print('Test score: ' , score[0])\n",
    "print('Test accuracy: ' , score[1])\n",
    "\n",
    " "
   ]
  },
  {
   "cell_type": "code",
   "execution_count": null,
   "metadata": {
    "colab": {
     "base_uri": "https://localhost:8080/",
     "height": 286
    },
    "id": "YZq-OfwUb4EZ",
    "outputId": "4ffd16bf-9114-4758-c619-7b47d91fe9db"
   },
   "outputs": [],
   "source": [
    "import requests\n",
    "import cv2\n",
    "from PIL import Image\n",
    "url = 'https://encrypted-tbn0.gstatic.com/images?q=tbn:ANd9GcSq2yVX_FxsRNF6VFgyxFFqaxpf6aZ3sbjWaONlneQHX768CTSEtA'\n",
    "r = requests.get(url, stream=True)\n",
    "img = Image.open(r.raw)\n",
    "plt.imshow(img, cmap=plt.get_cmap('gray'))"
   ]
  },
  {
   "cell_type": "code",
   "execution_count": null,
   "metadata": {
    "colab": {
     "base_uri": "https://localhost:8080/",
     "height": 283
    },
    "id": "EZ1EJzQWcdfL",
    "outputId": "b9b96d5c-a25a-4d12-dce0-dce85c704c1c"
   },
   "outputs": [],
   "source": [
    "\n",
    "img = np.asarray(img)\n",
    "img = cv2.resize(img, (32, 32))\n",
    "img = preprocessing(img)\n",
    "plt.imshow(img, cmap = plt.get_cmap('gray'))\n",
    "print(img.shape)\n",
    "\n",
    " "
   ]
  },
  {
   "cell_type": "code",
   "execution_count": null,
   "metadata": {
    "id": "fFTjbMhqdQGJ"
   },
   "outputs": [],
   "source": [
    "img = img.reshape(1, 32, 32, 1)"
   ]
  },
  {
   "cell_type": "code",
   "execution_count": null,
   "metadata": {
    "colab": {
     "base_uri": "https://localhost:8080/"
    },
    "id": "RVZJF3epdRtn",
    "outputId": "7dbc879d-66ea-4074-d2d0-12b7507a4e34"
   },
   "outputs": [],
   "source": [
    "print(\"predicted sign: \"+ str(model.predict_classes(img)))"
   ]
  },
  {
   "cell_type": "code",
   "execution_count": null,
   "metadata": {
    "id": "iuOOGUgAhERb"
   },
   "outputs": [],
   "source": [
    "model.save('trafic_sign.h5')"
   ]
  }
 ],
 "metadata": {
  "accelerator": "TPU",
  "colab": {
   "collapsed_sections": [],
   "name": "traffic_signs.ipynb",
   "provenance": []
  },
  "kernelspec": {
   "display_name": "Python 3",
   "language": "python",
   "name": "python3"
  },
  "language_info": {
   "codemirror_mode": {
    "name": "ipython",
    "version": 3
   },
   "file_extension": ".py",
   "mimetype": "text/x-python",
   "name": "python",
   "nbconvert_exporter": "python",
   "pygments_lexer": "ipython3",
   "version": "3.8.6"
  }
 },
 "nbformat": 4,
 "nbformat_minor": 1
}
